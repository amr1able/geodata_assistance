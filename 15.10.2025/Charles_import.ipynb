{
 "cells": [
  {
   "cell_type": "code",
   "execution_count": 1,
   "id": "36887db5-41f1-4801-8033-dd5f81243455",
   "metadata": {},
   "outputs": [],
   "source": [
    "file_name = \"stations_data.txt\""
   ]
  },
  {
   "cell_type": "code",
   "execution_count": 2,
   "id": "422be4aa-5e37-49b5-a9be-0c9393f851cb",
   "metadata": {},
   "outputs": [],
   "source": [
    "# #fancy way of having an extra directory for absolutely no reason.\n",
    "# #Directory trees are created. Ignore errors if they already exist.\n",
    "# file_name = \"data/stations_data.txt\"\n",
    "# file_CSV_name = \"data/stations_data.csv\"\n",
    "# directory_name = \"data\"\n",
    "# import os\n",
    "# os.makedirs(directory_name,exist_ok = True) # it does not complain if the dir already exists."
   ]
  },
  {
   "cell_type": "code",
   "execution_count": 3,
   "id": "2338a223-e612-4e25-aeae-1121b3314574",
   "metadata": {},
   "outputs": [],
   "source": [
    "import pandas as pd"
   ]
  },
  {
   "cell_type": "code",
   "execution_count": 4,
   "id": "0e838e5d-5ebb-448b-b574-dea2de941a41",
   "metadata": {},
   "outputs": [],
   "source": [
    "import codecs"
   ]
  },
  {
   "cell_type": "code",
   "execution_count": 5,
   "id": "87db016a-a4de-49ea-8e60-20b015259720",
   "metadata": {},
   "outputs": [],
   "source": [
    "#from the text file Stations_id von_datum bis_datum Stationshoehe geoBreite geoLaenge Stationsname Bundesland Abgabe"
   ]
  },
  {
   "cell_type": "code",
   "execution_count": 6,
   "id": "1d88383c-0a6a-4a39-ba5a-59acdf75c915",
   "metadata": {},
   "outputs": [
    {
     "data": {
      "text/plain": [
       "['Station_id',\n",
       " 'date_from',\n",
       " 'date_to',\n",
       " 'altitude',\n",
       " 'latitude',\n",
       " 'longitude',\n",
       " 'name',\n",
       " 'state',\n",
       " 'tax?']"
      ]
     },
     "execution_count": 6,
     "metadata": {},
     "output_type": "execute_result"
    }
   ],
   "source": [
    "col_names = [\"Station_id\",\"date_from\",\"date_to\",\"altitude\",\"latitude\", \"longitude\",\"name\",\"state\",\"tax?\"]\n",
    "\n",
    "col_names"
   ]
  },
  {
   "cell_type": "code",
   "execution_count": 7,
   "id": "a2f33e5c-0c40-4b9f-9f44-66abeac4f3c7",
   "metadata": {},
   "outputs": [],
   "source": [
    "dataframe = pd.read_fwf(\n",
    "    file_name,\n",
    "    encoding=\"cp1252\",              # handles German special characters\n",
    "    header=0,                       # use the first line as column names\n",
    "    skiprows=[0,1],                 # skip the second dashed line other wise it would give an error (Confusing to Python)\n",
    "    #P.S Row 1 is the 2nd Row ! ... starts from 0\n",
    "    #you would have to skip row 0 .. which is first Row     \n",
    "    names = col_names,\n",
    "    parse_dates=[\"date_from\", \"date_to\"],\n",
    "    #index_col=\"Station_id\" can't be done of course because the values repeat an index value can't be repeated has to be like an ID basically\n",
    ")"
   ]
  },
  {
   "cell_type": "code",
   "execution_count": 8,
   "id": "38507c2a-791b-4fb8-a1b3-389041912937",
   "metadata": {
    "editable": true,
    "slideshow": {
     "slide_type": ""
    },
    "tags": []
   },
   "outputs": [],
   "source": [
    "# dataframe1 = pd.read_csv(\n",
    "#     file_name,\n",
    "#     encoding=\"cp1252\",\n",
    "#     delim_whitespace=True,   # tell pandas to treat spaces as separators\n",
    "#     header=0,                # use first row as column names\n",
    "#     skiprows=[1],            # skip the dashed line\n",
    "    \n",
    "#     parse_dates=[\"von_datum\", \"bis_datum\"],\n",
    "#     index_col=\"Stations_id\"\n",
    "# )\n",
    "\n",
    "\n",
    "#Would not workkkkkkkk because spaces exist in names !!! so how can space be used as a delimiter between coloumns"
   ]
  },
  {
   "cell_type": "code",
   "execution_count": 9,
   "id": "3637832d-9671-483e-9e50-1d646c80ccc4",
   "metadata": {
    "editable": true,
    "slideshow": {
     "slide_type": ""
    },
    "tags": []
   },
   "outputs": [
    {
     "data": {
      "text/html": [
       "<div>\n",
       "<style scoped>\n",
       "    .dataframe tbody tr th:only-of-type {\n",
       "        vertical-align: middle;\n",
       "    }\n",
       "\n",
       "    .dataframe tbody tr th {\n",
       "        vertical-align: top;\n",
       "    }\n",
       "\n",
       "    .dataframe thead th {\n",
       "        text-align: right;\n",
       "    }\n",
       "</style>\n",
       "<table border=\"1\" class=\"dataframe\">\n",
       "  <thead>\n",
       "    <tr style=\"text-align: right;\">\n",
       "      <th></th>\n",
       "      <th>Station_id</th>\n",
       "      <th>date_from</th>\n",
       "      <th>date_to</th>\n",
       "      <th>altitude</th>\n",
       "      <th>latitude</th>\n",
       "      <th>longitude</th>\n",
       "      <th>name</th>\n",
       "      <th>state</th>\n",
       "      <th>tax?</th>\n",
       "    </tr>\n",
       "  </thead>\n",
       "  <tbody>\n",
       "    <tr>\n",
       "      <th>0</th>\n",
       "      <td>3</td>\n",
       "      <td>1851-01-01</td>\n",
       "      <td>2010-12-31</td>\n",
       "      <td>202</td>\n",
       "      <td>50.7827</td>\n",
       "      <td>6.0941</td>\n",
       "      <td>Aachen</td>\n",
       "      <td>Nordrhein-Westfalen</td>\n",
       "      <td>Frei</td>\n",
       "    </tr>\n",
       "    <tr>\n",
       "      <th>1</th>\n",
       "      <td>44</td>\n",
       "      <td>1972-01-01</td>\n",
       "      <td>2024-12-31</td>\n",
       "      <td>44</td>\n",
       "      <td>52.9336</td>\n",
       "      <td>8.2370</td>\n",
       "      <td>GroÃŸenkneten</td>\n",
       "      <td>Niedersachsen</td>\n",
       "      <td>Frei</td>\n",
       "    </tr>\n",
       "    <tr>\n",
       "      <th>2</th>\n",
       "      <td>52</td>\n",
       "      <td>1973-01-01</td>\n",
       "      <td>2001-12-31</td>\n",
       "      <td>46</td>\n",
       "      <td>53.6623</td>\n",
       "      <td>10.1990</td>\n",
       "      <td>Ahrensburg-Wulfsdorf</td>\n",
       "      <td>Schleswig-Holstein</td>\n",
       "      <td>Frei</td>\n",
       "    </tr>\n",
       "    <tr>\n",
       "      <th>3</th>\n",
       "      <td>61</td>\n",
       "      <td>1976-01-01</td>\n",
       "      <td>1977-12-31</td>\n",
       "      <td>339</td>\n",
       "      <td>48.8443</td>\n",
       "      <td>12.6171</td>\n",
       "      <td>Aiterhofen</td>\n",
       "      <td>Bayern</td>\n",
       "      <td>Frei</td>\n",
       "    </tr>\n",
       "    <tr>\n",
       "      <th>4</th>\n",
       "      <td>70</td>\n",
       "      <td>1974-01-01</td>\n",
       "      <td>1985-12-31</td>\n",
       "      <td>712</td>\n",
       "      <td>48.2052</td>\n",
       "      <td>9.0371</td>\n",
       "      <td>Albstadt-Ebingen</td>\n",
       "      <td>Baden-WÃ¼rttemberg</td>\n",
       "      <td>Frei</td>\n",
       "    </tr>\n",
       "    <tr>\n",
       "      <th>...</th>\n",
       "      <td>...</td>\n",
       "      <td>...</td>\n",
       "      <td>...</td>\n",
       "      <td>...</td>\n",
       "      <td>...</td>\n",
       "      <td>...</td>\n",
       "      <td>...</td>\n",
       "      <td>...</td>\n",
       "      <td>...</td>\n",
       "    </tr>\n",
       "    <tr>\n",
       "      <th>1215</th>\n",
       "      <td>19940</td>\n",
       "      <td>1967-01-01</td>\n",
       "      <td>1979-12-31</td>\n",
       "      <td>31</td>\n",
       "      <td>52.6069</td>\n",
       "      <td>11.8800</td>\n",
       "      <td>Stendal/Altmark</td>\n",
       "      <td>Sachsen-Anhalt</td>\n",
       "      <td>Frei</td>\n",
       "    </tr>\n",
       "    <tr>\n",
       "      <th>1216</th>\n",
       "      <td>19985</td>\n",
       "      <td>1981-01-01</td>\n",
       "      <td>2003-12-31</td>\n",
       "      <td>455</td>\n",
       "      <td>48.8457</td>\n",
       "      <td>8.9073</td>\n",
       "      <td>Weissach/Strudelbach</td>\n",
       "      <td>Baden-WÃ¼rttemberg</td>\n",
       "      <td>Frei</td>\n",
       "    </tr>\n",
       "    <tr>\n",
       "      <th>1217</th>\n",
       "      <td>19989</td>\n",
       "      <td>1881-01-01</td>\n",
       "      <td>2011-12-31</td>\n",
       "      <td>147</td>\n",
       "      <td>50.0681</td>\n",
       "      <td>8.2603</td>\n",
       "      <td>Wiesbaden (SÃ¼dost)</td>\n",
       "      <td>Hessen</td>\n",
       "      <td>Frei</td>\n",
       "    </tr>\n",
       "    <tr>\n",
       "      <th>1218</th>\n",
       "      <td>20007</td>\n",
       "      <td>1881-01-01</td>\n",
       "      <td>1934-12-31</td>\n",
       "      <td>332</td>\n",
       "      <td>50.8422</td>\n",
       "      <td>12.8770</td>\n",
       "      <td>Chemnitz-Altendorf</td>\n",
       "      <td>Sachsen</td>\n",
       "      <td>Frei</td>\n",
       "    </tr>\n",
       "    <tr>\n",
       "      <th>1219</th>\n",
       "      <td>20098</td>\n",
       "      <td>2026-01-01</td>\n",
       "      <td>2024-12-31</td>\n",
       "      <td>19</td>\n",
       "      <td>48.5651</td>\n",
       "      <td>8.2284</td>\n",
       "      <td>Seebach (Nationalpark Schwarzw</td>\n",
       "      <td>Baden-WÃ¼rttemberg</td>\n",
       "      <td>Frei</td>\n",
       "    </tr>\n",
       "  </tbody>\n",
       "</table>\n",
       "<p>1220 rows × 9 columns</p>\n",
       "</div>"
      ],
      "text/plain": [
       "      Station_id  date_from    date_to  altitude  latitude  longitude  \\\n",
       "0              3 1851-01-01 2010-12-31       202   50.7827     6.0941   \n",
       "1             44 1972-01-01 2024-12-31        44   52.9336     8.2370   \n",
       "2             52 1973-01-01 2001-12-31        46   53.6623    10.1990   \n",
       "3             61 1976-01-01 1977-12-31       339   48.8443    12.6171   \n",
       "4             70 1974-01-01 1985-12-31       712   48.2052     9.0371   \n",
       "...          ...        ...        ...       ...       ...        ...   \n",
       "1215       19940 1967-01-01 1979-12-31        31   52.6069    11.8800   \n",
       "1216       19985 1981-01-01 2003-12-31       455   48.8457     8.9073   \n",
       "1217       19989 1881-01-01 2011-12-31       147   50.0681     8.2603   \n",
       "1218       20007 1881-01-01 1934-12-31       332   50.8422    12.8770   \n",
       "1219       20098 2026-01-01 2024-12-31        19   48.5651     8.2284   \n",
       "\n",
       "                                name                state  tax?  \n",
       "0                             Aachen  Nordrhein-Westfalen  Frei  \n",
       "1                      GroÃŸenkneten        Niedersachsen  Frei  \n",
       "2               Ahrensburg-Wulfsdorf   Schleswig-Holstein  Frei  \n",
       "3                         Aiterhofen               Bayern  Frei  \n",
       "4                   Albstadt-Ebingen   Baden-WÃ¼rttemberg  Frei  \n",
       "...                              ...                  ...   ...  \n",
       "1215                 Stendal/Altmark       Sachsen-Anhalt  Frei  \n",
       "1216            Weissach/Strudelbach   Baden-WÃ¼rttemberg  Frei  \n",
       "1217             Wiesbaden (SÃ¼dost)               Hessen  Frei  \n",
       "1218              Chemnitz-Altendorf              Sachsen  Frei  \n",
       "1219  Seebach (Nationalpark Schwarzw   Baden-WÃ¼rttemberg  Frei  \n",
       "\n",
       "[1220 rows x 9 columns]"
      ]
     },
     "execution_count": 9,
     "metadata": {},
     "output_type": "execute_result"
    }
   ],
   "source": [
    "dataframe"
   ]
  },
  {
   "cell_type": "markdown",
   "id": "14dfd0c8-bda7-45c3-aa5b-346f9990d671",
   "metadata": {},
   "source": [
    "Again : ) \"Station_id\" can't be an index col. because the values repeat an index value can't be repeated has to be like an ID basically\n",
    "\n",
    "To confirm:"
   ]
  },
  {
   "cell_type": "code",
   "execution_count": 10,
   "id": "2e4eebcf-95ef-469c-be4d-f282105139ef",
   "metadata": {},
   "outputs": [
    {
     "data": {
      "text/plain": [
       "np.False_"
      ]
     },
     "execution_count": 10,
     "metadata": {},
     "output_type": "execute_result"
    }
   ],
   "source": [
    "dataframe[\"Station_id\"].duplicated().any() #yup ...it indeed repeats"
   ]
  },
  {
   "cell_type": "code",
   "execution_count": 11,
   "id": "59919b5d-5f0f-49bc-ba41-d9bdd3dc173e",
   "metadata": {},
   "outputs": [],
   "source": [
    "file_CSV_name = \"stations_data.csv\""
   ]
  },
  {
   "cell_type": "code",
   "execution_count": 12,
   "id": "aee610ed-f223-4a80-ba0c-1caa4babe44f",
   "metadata": {},
   "outputs": [],
   "source": [
    "dataframe.to_csv(file_CSV_name,sep =\";\") # fancy extra thing to save the file as a CSV for absolutely no reason"
   ]
  },
  {
   "cell_type": "code",
   "execution_count": null,
   "id": "b67c2c34-a7aa-4808-ae46-4273fb35009f",
   "metadata": {},
   "outputs": [],
   "source": []
  }
 ],
 "metadata": {
  "kernelspec": {
   "display_name": "Python 3 (ipykernel)",
   "language": "python",
   "name": "python3"
  },
  "language_info": {
   "codemirror_mode": {
    "name": "ipython",
    "version": 3
   },
   "file_extension": ".py",
   "mimetype": "text/x-python",
   "name": "python",
   "nbconvert_exporter": "python",
   "pygments_lexer": "ipython3",
   "version": "3.12.8"
  }
 },
 "nbformat": 4,
 "nbformat_minor": 5
}
